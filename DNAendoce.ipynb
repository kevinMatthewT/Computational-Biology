{
 "cells": [
  {
   "cell_type": "markdown",
   "metadata": {},
   "source": [
    "Input DNA = TTACGA\n",
    "Complement = AATGCT\n",
    "mRNA = AAUGCU\n",
    "Aminoacid = Asn (N) – Ala (A)"
   ]
  },
  {
   "cell_type": "code",
   "execution_count": 4,
   "metadata": {},
   "outputs": [
    {
     "name": "stdout",
     "output_type": "stream",
     "text": [
      "TTACGA\n",
      "Complement = AATGCT\n",
      "mRNA = AAUGCU\n",
      "['AAU', 'GCU']\n",
      "Asn (N)-\n",
      "Asn (N)-Ala (A)\n"
     ]
    },
    {
     "data": {
      "text/plain": [
       "'AminoAcids=Asn (N)-Ala (A)'"
      ]
     },
     "execution_count": 4,
     "metadata": {},
     "output_type": "execute_result"
    }
   ],
   "source": [
    "def Complement(dna):\n",
    "    dna=dna.upper()\n",
    "    comp=\"\"\n",
    "    for i in dna:\n",
    "        if i == \"A\":\n",
    "            comp=comp+\"T\"\n",
    "        elif i ==\"T\":\n",
    "            comp=comp+\"A\"\n",
    "        elif i ==\"G\":\n",
    "            comp=comp+\"C\"\n",
    "        elif i ==\"C\":\n",
    "            comp=comp+\"G\"\n",
    "    return comp\n",
    "\n",
    "def MRNA(complement):\n",
    "    comp=\"\"\n",
    "    for i in complement:\n",
    "        if i == \"T\":\n",
    "            comp=comp+\"U\"\n",
    "        else:\n",
    "            comp=comp+i\n",
    "    return comp\n",
    "\n",
    "def Strand(mRNA):\n",
    "    acid=''\n",
    "    AminoAcids=[]\n",
    "\n",
    "    for i in mRNA:\n",
    "        acid=acid+i\n",
    "        if len(acid)==3:\n",
    "            AminoAcids.append(acid)\n",
    "            acid=''\n",
    "    \n",
    "    return AminoAcids\n",
    "\n",
    "def AminoAcids(aminoAcids):\n",
    "    AminoAcidsDictionary={\"AAU\":\"Asn (N)\",\"GCU\": \"Ala (A)\"}\n",
    "    words=\"\"\n",
    "    AminoCount=0\n",
    "    for i in aminoAcids:\n",
    "        AminoCount+=1\n",
    "        if AminoCount==len(aminoAcids):\n",
    "            words=words+ AminoAcidsDictionary[i]\n",
    "        else:\n",
    "            words=words+ AminoAcidsDictionary[i] +\"-\"\n",
    "\n",
    "    return \"AminoAcids=\" + words\n",
    "        \n",
    "\n",
    "DNA=input(\"Please input DNA\")\n",
    "\n",
    "complement=Complement(DNA)\n",
    "print(DNA)\n",
    "print(\"Complement = \"+ complement)\n",
    "mRNA=MRNA(complement)\n",
    "print(\"mRNA = \"+ mRNA)\n",
    "\n",
    "lis=Strand(mRNA)\n",
    "print(lis)\n",
    "AminoAcids(lis)\n"
   ]
  },
  {
   "cell_type": "markdown",
   "metadata": {},
   "source": [
    "Input AminoAcid = NAN\n",
    "\n",
    "mRNA= AAUGCUAAU\n",
    "AAU=2\n",
    "GCU=1"
   ]
  },
  {
   "cell_type": "code",
   "execution_count": 11,
   "metadata": {},
   "outputs": [
    {
     "name": "stdout",
     "output_type": "stream",
     "text": [
      "input AminoAcid = NAN\n",
      "mRNA= AAUGCUAAU\n",
      "AAU=2\n",
      "GCU=1\n"
     ]
    }
   ],
   "source": [
    "def Acid_to_mRNA():\n",
    "    Acid=input(\"Input AminoAcid\")\n",
    "    Acid=Acid.upper()\n",
    "\n",
    "    mRNA_Dictionary={\"N\":\"AAU\",\"A\":\"GCU\"}\n",
    "    mRNA=\"\"\n",
    "    for i in Acid:\n",
    "        mRNA=mRNA+mRNA_Dictionary[i]\n",
    "\n",
    "    print(\"input AminoAcid = \" + Acid)\n",
    "    print(\"mRNA= \" + mRNA)\n",
    "    \n",
    "    return mRNA\n",
    "\n",
    "def Freq_Codon(mRNA):\n",
    "    RNA_Codon=[]\n",
    "    acid=\"\"\n",
    "    for i in mRNA:\n",
    "        acid=acid+i\n",
    "        if len(acid)==3:\n",
    "            RNA_Codon.append(acid)\n",
    "            acid=''\n",
    "    \n",
    "    Codon_Freq={}\n",
    "    for s in RNA_Codon:\n",
    "        if s in Codon_Freq:\n",
    "            Codon_Freq[s]+=1\n",
    "        else:\n",
    "            Codon_Freq[s]=1\n",
    "\n",
    "    return Codon_Freq\n",
    "\n",
    "mRna=Acid_to_mRNA()\n",
    "frequency=Freq_Codon(mRna)\n",
    "\n",
    "for i in frequency:\n",
    "    print(i+\"=\"+str(frequency[i]))"
   ]
  },
  {
   "cell_type": "markdown",
   "metadata": {},
   "source": [
    "-Kevin Matthew Tanuwijaya\n",
    "-2502036514"
   ]
  }
 ],
 "metadata": {
  "kernelspec": {
   "display_name": "Python 3",
   "language": "python",
   "name": "python3"
  },
  "language_info": {
   "codemirror_mode": {
    "name": "ipython",
    "version": 3
   },
   "file_extension": ".py",
   "mimetype": "text/x-python",
   "name": "python",
   "nbconvert_exporter": "python",
   "pygments_lexer": "ipython3",
   "version": "3.11.4"
  },
  "orig_nbformat": 4
 },
 "nbformat": 4,
 "nbformat_minor": 2
}
